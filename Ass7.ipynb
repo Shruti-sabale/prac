{
 "cells": [
  {
   "cell_type": "code",
   "execution_count": 3,
   "id": "d2caa22f-8e74-4f32-97fe-63ac5451f5b5",
   "metadata": {},
   "outputs": [],
   "source": [
    "sample_document=\"Natural language processing is a subfield of linguistics, computer science, and artificial intelligence concerned with the interactions between computers and human language.\""
   ]
  },
  {
   "cell_type": "code",
   "execution_count": 8,
   "id": "6142bcb0-e430-46c7-90ba-94559fdaf15f",
   "metadata": {},
   "outputs": [],
   "source": [
    "import nltk"
   ]
  },
  {
   "cell_type": "code",
   "execution_count": 10,
   "id": "96479f0b-35a3-4879-8671-9baaac826f1d",
   "metadata": {},
   "outputs": [],
   "source": [
    "from nltk.tokenize import word_tokenize\n",
    "from nltk.corpus import stopwords\n",
    "from nltk.stem import PorterStemmer,WordNetLemmatizer\n",
    "from nltk import pos_tag"
   ]
  },
  {
   "cell_type": "code",
   "execution_count": 38,
   "id": "d35350de-4cfe-402b-a10c-6f352f448464",
   "metadata": {},
   "outputs": [
    {
     "name": "stderr",
     "output_type": "stream",
     "text": [
      "[nltk_data] Downloading package punkt to\n",
      "[nltk_data]     C:\\Users\\SHRUTI\\AppData\\Roaming\\nltk_data...\n",
      "[nltk_data]   Package punkt is already up-to-date!\n",
      "[nltk_data] Downloading package averaged_perceptron_tagger to\n",
      "[nltk_data]     C:\\Users\\SHRUTI\\AppData\\Roaming\\nltk_data...\n",
      "[nltk_data]   Package averaged_perceptron_tagger is already up-to-\n",
      "[nltk_data]       date!\n",
      "[nltk_data] Downloading package stopwords to\n",
      "[nltk_data]     C:\\Users\\SHRUTI\\AppData\\Roaming\\nltk_data...\n",
      "[nltk_data]   Package stopwords is already up-to-date!\n",
      "[nltk_data] Downloading package wordnet to\n",
      "[nltk_data]     C:\\Users\\SHRUTI\\AppData\\Roaming\\nltk_data...\n"
     ]
    },
    {
     "data": {
      "text/plain": [
       "True"
      ]
     },
     "execution_count": 38,
     "metadata": {},
     "output_type": "execute_result"
    }
   ],
   "source": [
    "nltk.download('punkt')\n",
    "nltk.download('averaged_perceptron_tagger')\n",
    "nltk.download('stopwords')\n",
    "nltk.download('wordnet')"
   ]
  },
  {
   "cell_type": "code",
   "execution_count": 15,
   "id": "e97ffb46-b843-4eee-8918-aa362096473c",
   "metadata": {},
   "outputs": [],
   "source": [
    "tokens=word_tokenize(sample_document)"
   ]
  },
  {
   "cell_type": "code",
   "execution_count": 20,
   "id": "1f35b06e-d0d7-4770-809a-1c58a7a0f54e",
   "metadata": {},
   "outputs": [],
   "source": [
    "pos_tags=pos_tag(tokens)"
   ]
  },
  {
   "cell_type": "code",
   "execution_count": 27,
   "id": "0501699b-9ae3-4a82-9eb7-48c069de4271",
   "metadata": {},
   "outputs": [],
   "source": [
    "stop_words=set(stopwords.words('english'))"
   ]
  },
  {
   "cell_type": "code",
   "execution_count": 30,
   "id": "c64316e1-78f4-4774-b20d-fc855b459494",
   "metadata": {},
   "outputs": [],
   "source": [
    "filtered_tokens=[word for word in tokens if word.lower() not in stop_words]"
   ]
  },
  {
   "cell_type": "code",
   "execution_count": 32,
   "id": "92b2237c-ff46-417b-b9ee-bc91d2f86a77",
   "metadata": {},
   "outputs": [],
   "source": [
    "stemmer=PorterStemmer()"
   ]
  },
  {
   "cell_type": "code",
   "execution_count": 34,
   "id": "f3922d00-8f0a-4fa5-bc8d-bf0f96b8a559",
   "metadata": {},
   "outputs": [],
   "source": [
    "stemmed_token=[stemmer.stem(word) for word in filtered_tokens]"
   ]
  },
  {
   "cell_type": "code",
   "execution_count": 36,
   "id": "cebf7f98-73b6-4428-8d9f-56a3aef8df62",
   "metadata": {},
   "outputs": [],
   "source": [
    "lemmatizer=WordNetLemmatizer()"
   ]
  },
  {
   "cell_type": "code",
   "execution_count": 39,
   "id": "0820847c-cf52-4cd1-83aa-527eabad7f50",
   "metadata": {},
   "outputs": [],
   "source": [
    "lemmatized_token=[lemmatizer.lemmatize(word) for word in filtered_tokens]"
   ]
  },
  {
   "cell_type": "code",
   "execution_count": 44,
   "id": "0405226b-8f81-4a72-ac6b-00959df85688",
   "metadata": {},
   "outputs": [
    {
     "name": "stdout",
     "output_type": "stream",
     "text": [
      "Tokenization: ['Natural', 'language', 'processing', 'is', 'a', 'subfield', 'of', 'linguistics', ',', 'computer', 'science', ',', 'and', 'artificial', 'intelligence', 'concerned', 'with', 'the', 'interactions', 'between', 'computers', 'and', 'human', 'language', '.']\n"
     ]
    }
   ],
   "source": [
    "print(\"Tokenization:\",tokens)"
   ]
  },
  {
   "cell_type": "code",
   "execution_count": 45,
   "id": "d9d49450-fecd-4fd5-95a8-53cce70af770",
   "metadata": {},
   "outputs": [
    {
     "name": "stdout",
     "output_type": "stream",
     "text": [
      "POS Tags: [('Natural', 'JJ'), ('language', 'NN'), ('processing', 'NN'), ('is', 'VBZ'), ('a', 'DT'), ('subfield', 'NN'), ('of', 'IN'), ('linguistics', 'NNS'), (',', ','), ('computer', 'NN'), ('science', 'NN'), (',', ','), ('and', 'CC'), ('artificial', 'JJ'), ('intelligence', 'NN'), ('concerned', 'VBN'), ('with', 'IN'), ('the', 'DT'), ('interactions', 'NNS'), ('between', 'IN'), ('computers', 'NNS'), ('and', 'CC'), ('human', 'JJ'), ('language', 'NN'), ('.', '.')]\n"
     ]
    }
   ],
   "source": [
    "print(\"POS Tags:\", pos_tags)"
   ]
  },
  {
   "cell_type": "code",
   "execution_count": 46,
   "id": "584a6e32-32ec-4af9-a85d-6fcef41ca010",
   "metadata": {},
   "outputs": [
    {
     "name": "stdout",
     "output_type": "stream",
     "text": [
      "Filtered Tokens (Stop Words Removal): ['Natural', 'language', 'processing', 'subfield', 'linguistics', ',', 'computer', 'science', ',', 'artificial', 'intelligence', 'concerned', 'interactions', 'computers', 'human', 'language', '.']\n"
     ]
    }
   ],
   "source": [
    "print(\"Filtered Tokens (Stop Words Removal):\", filtered_tokens)"
   ]
  },
  {
   "cell_type": "code",
   "execution_count": 47,
   "id": "50bbd987-741a-4749-bac1-240b0313dc72",
   "metadata": {},
   "outputs": [
    {
     "name": "stdout",
     "output_type": "stream",
     "text": [
      "Stemmed Tokens: ['natur', 'languag', 'process', 'subfield', 'linguist', ',', 'comput', 'scienc', ',', 'artifici', 'intellig', 'concern', 'interact', 'comput', 'human', 'languag', '.']\n"
     ]
    }
   ],
   "source": [
    "print(\"Stemmed Tokens:\", stemmed_token)"
   ]
  },
  {
   "cell_type": "code",
   "execution_count": 48,
   "id": "1828df38-b14c-451a-97a9-5a9c2167a81f",
   "metadata": {},
   "outputs": [
    {
     "name": "stdout",
     "output_type": "stream",
     "text": [
      "Lemmatized Tokens: ['Natural', 'language', 'processing', 'subfield', 'linguistics', ',', 'computer', 'science', ',', 'artificial', 'intelligence', 'concerned', 'interaction', 'computer', 'human', 'language', '.']\n"
     ]
    }
   ],
   "source": [
    "print(\"Lemmatized Tokens:\", lemmatized_token)"
   ]
  },
  {
   "cell_type": "code",
   "execution_count": 51,
   "id": "b706de3c-e9f7-4083-9b5f-9d546f4306b9",
   "metadata": {},
   "outputs": [],
   "source": [
    "from sklearn.feature_extraction.text import TfidfVectorizer"
   ]
  },
  {
   "cell_type": "code",
   "execution_count": 53,
   "id": "2c064fc3-5d01-45ce-a6b7-04a81e102f1c",
   "metadata": {},
   "outputs": [],
   "source": [
    "preprocessed_document=''.join(lemmatized_token)"
   ]
  },
  {
   "cell_type": "code",
   "execution_count": 55,
   "id": "2c1a611c-833c-4131-a57a-1cd7b9659080",
   "metadata": {},
   "outputs": [],
   "source": [
    "tfidf_vectorizer=TfidfVectorizer()"
   ]
  },
  {
   "cell_type": "code",
   "execution_count": 56,
   "id": "e6065366-2530-4e8f-9f9f-70d2e6522ca1",
   "metadata": {},
   "outputs": [],
   "source": [
    "tfidf_matrix=tfidf_vectorizer.fit_transform([preprocessed_document])"
   ]
  },
  {
   "cell_type": "code",
   "execution_count": 61,
   "id": "c6afeb3c-ae55-4152-8371-e4a98b8f6830",
   "metadata": {},
   "outputs": [
    {
     "data": {
      "text/plain": [
       "<1x3 sparse matrix of type '<class 'numpy.float64'>'\n",
       "\twith 3 stored elements in Compressed Sparse Row format>"
      ]
     },
     "execution_count": 61,
     "metadata": {},
     "output_type": "execute_result"
    }
   ],
   "source": [
    "tfidf_matrix"
   ]
  },
  {
   "cell_type": "code",
   "execution_count": 59,
   "id": "bc8722aa-bfc7-4efa-8fb8-ecb43b1e2d53",
   "metadata": {},
   "outputs": [
    {
     "data": {
      "text/plain": [
       "array([[0.57735027, 0.57735027, 0.57735027]])"
      ]
     },
     "execution_count": 59,
     "metadata": {},
     "output_type": "execute_result"
    }
   ],
   "source": [
    "tfidf_matrix.toarray()"
   ]
  },
  {
   "cell_type": "code",
   "execution_count": 66,
   "id": "4894cbad-d955-49c1-af11-1e036c68a252",
   "metadata": {},
   "outputs": [
    {
     "name": "stdout",
     "output_type": "stream",
     "text": [
      "TF-IDF Representation:\n",
      "   artificialintelligenceconcernedinteractioncomputerhumanlanguage  \\\n",
      "0                                            0.57735                 \n",
      "\n",
      "   computerscience  naturallanguageprocessingsubfieldlinguistics  \n",
      "0          0.57735                                       0.57735  \n"
     ]
    }
   ],
   "source": [
    "tfidf_df = pd.DataFrame(tfidf_matrix.toarray(), columns=tfidf_vectorizer.get_feature_names_out())\n",
    "print(\"TF-IDF Representation:\")\n",
    "print(tfidf_df)"
   ]
  },
  {
   "cell_type": "code",
   "execution_count": 65,
   "id": "2f314610-19f5-44ae-9a2d-811a0d96573a",
   "metadata": {},
   "outputs": [],
   "source": [
    "import pandas as pd"
   ]
  }
 ],
 "metadata": {
  "kernelspec": {
   "display_name": "Python 3 (ipykernel)",
   "language": "python",
   "name": "python3"
  },
  "language_info": {
   "codemirror_mode": {
    "name": "ipython",
    "version": 3
   },
   "file_extension": ".py",
   "mimetype": "text/x-python",
   "name": "python",
   "nbconvert_exporter": "python",
   "pygments_lexer": "ipython3",
   "version": "3.11.7"
  }
 },
 "nbformat": 4,
 "nbformat_minor": 5
}
